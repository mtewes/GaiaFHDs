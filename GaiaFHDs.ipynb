{
 "cells": [
  {
   "cell_type": "markdown",
   "id": "3d575c53",
   "metadata": {},
   "source": [
    "# **Sternhaufen mit Gaia und Python**\n",
    "\n",
    "## Willkommen!\n",
    "\n",
    "In diesem Notebook werden wir Farben-Helligkeits-Diagramme (FHDs) von Sternhaufen erstellen und analysieren, um die Entfernung und das Alter dieser Sternhaufen abzuschätzen. Dafür nutzen wir Daten des Weltraumteleskops Gaia der ESA.\n",
    "\n",
    "Die Nutzung des Notebooks werden wir Dir live vorführen. Es ist hier nicht jedes Detail schriftlich beschrieben. Melde Dich einfach, wenn etwas nicht klappt!"
   ]
  },
  {
   "cell_type": "markdown",
   "id": "7cd438f5",
   "metadata": {},
   "source": [
    "  - Link zu Jürgens Folien ?\n",
    "  - python env auswählen?\n",
    "  - Restart und clear outputs hinweisen (wie das in Jupyterlab aussieht...)?"
   ]
  },
  {
   "cell_type": "markdown",
   "id": "cb0d8d4c",
   "metadata": {},
   "source": [
    "## Teil 1: kleines Python-Tutorial\n",
    "\n",
    "Damit du den Code in den nächsten Teilen nachvollziehen kannst, fangen wir mit einer kleinen Einleitung zu Python an."
   ]
  },
  {
   "cell_type": "markdown",
   "id": "11a0577b",
   "metadata": {},
   "source": [
    "\n",
    "Nutze **control-enter** um eine Zelle auszuführen!"
   ]
  },
  {
   "cell_type": "code",
   "execution_count": null,
   "id": "9c043aba",
   "metadata": {},
   "outputs": [],
   "source": [
    "print(\"Hallo Welt!\")"
   ]
  },
  {
   "cell_type": "code",
   "execution_count": null,
   "id": "8460607f",
   "metadata": {},
   "outputs": [],
   "source": [
    "# Alles hinter einem # ist ein Kommentar, der von Python ignoriert wird.\n",
    "\n",
    "# Das hier ist ein \"String\", also eine Zeichenkette, die von Python als Text interpretiert wird:\n",
    "t = \"Hallo Welt!\"\n",
    "\n",
    "# In einem Notebook kannst du das print() oft weglassen, der Wert des letzten \"Ausdrucks\" einer Zelle wird automatisch ausgegeben, so wie hier:\n",
    "t"
   ]
  },
  {
   "cell_type": "code",
   "execution_count": null,
   "id": "3e8c2b38",
   "metadata": {},
   "outputs": [],
   "source": [
    "a = 6\n",
    "b = 3\n",
    "print(\"Kleine Rechnung:\", a + b - 5.2)\n",
    "\n",
    "# Wenn gewünscht kann man genau bestimmen, wie Zahlen formatiert werden sollen.\n",
    "# Die modernste und eleganteste Lösung dafür in Python ist der sogenannte f-String:\n",
    "print(f\"Noch ne Rechnung: { a+b :.5f}\") # Das .5f bedeutet, dass die Zahl mit 3 Nachkommastellen ausgegeben werden soll."
   ]
  },
  {
   "cell_type": "code",
   "execution_count": null,
   "id": "4565b160",
   "metadata": {},
   "outputs": [],
   "source": [
    "# Variablen bleiben nach der Ausführung von Zellen erhalten!\n",
    "\n",
    "a / b"
   ]
  },
  {
   "cell_type": "markdown",
   "id": "6d9de40f",
   "metadata": {},
   "source": [
    "Für praktisch all Aufgaben gibt es in Python \"Module\", das sind Programmierbibliotheken. Um sie zu nutzen, muss man sie vorher einmal *importieren*.\n",
    "\n",
    "Erstes Beispiel: für numerische Rechnungen nutzt man **numpy**, und importiert es als np (... ist kürzer zu schreiben), so: "
   ]
  },
  {
   "cell_type": "code",
   "execution_count": null,
   "id": "78b2f5f3",
   "metadata": {},
   "outputs": [],
   "source": [
    "import numpy as np\n",
    "\n",
    "# Alles, was zu numpy gehört, fängt nun mit \"np.\" an:\n",
    "x = 2.0\n",
    "y = np.sqrt(x) # sqrt steht für \"square root\"\n",
    "\n",
    "print(\"Die Quadratwurzel von\", x, \"ist ungefähr\", y)\n",
    "\n",
    "print(\"Pi ist ungefähr\", np.pi)\n"
   ]
  },
  {
   "cell_type": "markdown",
   "id": "7c0ee784",
   "metadata": {},
   "source": [
    "Die wichtigste Eigenschaft von numpy ist das rechnen mit sogenannten \"Arrays\". Ein Array ist eine Art Liste (oder Tabelle) von Zahlen.\n",
    "\n",
    "So können wir ein Array selber bauen:"
   ]
  },
  {
   "cell_type": "code",
   "execution_count": null,
   "id": "1c9929bc",
   "metadata": {},
   "outputs": [],
   "source": [
    "a = np.array([1.5, 4.2, 2.0, 1.0])"
   ]
  },
  {
   "cell_type": "markdown",
   "id": "54d4fc73",
   "metadata": {},
   "source": [
    "Und jetzt kommt der Clou: wenn man mit einem Array rechnet, werden viele Operationen automatisch auf *alle* Zahlen dieses Arrays angewandt. Das Ergebnis so einer Rechnung ist oft selber ein Array. Probiere folgende Beispiele aus:"
   ]
  },
  {
   "cell_type": "code",
   "execution_count": null,
   "id": "983b78c0",
   "metadata": {},
   "outputs": [],
   "source": [
    "b = a + 2.0  # b ist nun auch ein Array mit 4 Zahlen...\n",
    "print(b)\n",
    "\n",
    "b = np.sqrt(a)  # ... und hier ist b die Quadratwurzel von a\n",
    "print(b)"
   ]
  },
  {
   "cell_type": "markdown",
   "id": "35888078",
   "metadata": {},
   "source": [
    "Andere Funktionen von numpy können ein Array \"zusammenfassen\", und nur eine Zahl ausgeben. Zum Beispiel:"
   ]
  },
  {
   "cell_type": "code",
   "execution_count": null,
   "id": "e29815ba",
   "metadata": {},
   "outputs": [],
   "source": [
    "print(np.mean(a)) # Mittelwert von a\n",
    "\n",
    "c = np.max(b) # Maximalwert von b\n",
    "print(c)"
   ]
  },
  {
   "cell_type": "markdown",
   "id": "5af90e54",
   "metadata": {},
   "source": [
    "Als nächstes Beispiel schauen wir uns kurz das Modul **matplotlib** an, mit dem man Diagramme erstellen kann. Mit dieser Bibliothek können alle Aspekte eines Diagramms bis ins letzte Detail kontrolliert werden, und trotzdem bleibt das erstellen von einfachen Diagrammen so unkompliziert wie möglich.\n",
    "\n"
   ]
  },
  {
   "cell_type": "code",
   "execution_count": null,
   "id": "c9db9c3e",
   "metadata": {},
   "outputs": [],
   "source": [
    "%matplotlib widget\n",
    "import matplotlib.pyplot as plt # Wir werden matplotlib immer so importieren\n",
    "\n",
    "# Matplotlib funktioniert mit numpy Arrays, wir bauen uns also ein Beispiel:\n",
    "x = np.linspace(0, 5, 50) # so bekommt man ein Array mit 50 regelmässig verteilte Zahlen zwischen 0 und 5\n",
    "y = np.sqrt(x) # Das Array y enthält also die Quadratwurzeln der Werte von x\n",
    "\n",
    "# Und jetzt matplotlib:\n",
    "plt.figure() # Lege eine neues Diagramm an\n",
    "plt.plot(x, y, \"b.\") # Zeichne (x, y) als blaue Punkte ein (\"b.\" steht für \"blue dot\")\n",
    "plt.show() # Zeige das Diagramm an"
   ]
  },
  {
   "cell_type": "markdown",
   "id": "96c36d72",
   "metadata": {},
   "source": [
    "Matplotlib-Diagramme sind interaktiv. Bewege die Maus über das Diagramm, und Klicke auf das Kreuz-Symbol oben links. Jetzt kannst du mit der linken Maustaste die Achsen verschieben, und mit der rechten Maustaste die Skala der Achsen ändern.\n",
    "\n",
    "Spiele ein wenig damit herum:\n",
    "\n",
    " - Ersetze mal `sqrt` durch `sin`.\n",
    " - Ersetzte `\"b.\"` durch `\"r-\"`, oder lasse das ganz weg.\n",
    " - Du kannst die Funktion `plt.plot` auch mehrmals aufrufen (natürlich am besten mit unterschiedlichem Inhalt).\n",
    " - Füge die Zeile `plt.xlabel(\"Das ist die x-Achse\")` ein, vor dem `plt.show()`."
   ]
  },
  {
   "cell_type": "markdown",
   "id": "f2744ddc",
   "metadata": {},
   "source": [
    "## Teil 2: Laden der Daten\n",
    "\n",
    "In diesem Teil laden wir die Gaia-Daten eines Sternhaufens aus dem Internet. "
   ]
  },
  {
   "cell_type": "markdown",
   "id": "265dae8a",
   "metadata": {},
   "source": [
    "Zunächst importieren wir jetzt alle Module, die wir heute benötigen werden. Führe die folgende Zelle einfach einmal aus."
   ]
  },
  {
   "cell_type": "code",
   "execution_count": null,
   "id": "1272327d",
   "metadata": {},
   "outputs": [],
   "source": [
    "import warnings\n",
    "\n",
    "import urllib.request\n",
    "import pathlib\n",
    "import pickle\n",
    "\n",
    "import numpy as np\n",
    "%matplotlib widget\n",
    "import matplotlib\n",
    "import matplotlib.pyplot as plt\n",
    "\n",
    "import pyvo\n",
    "\n",
    "import astropy\n",
    "from astropy import units as u\n",
    "\n",
    "from ipyaladin import Aladin, Marker"
   ]
  },
  {
   "cell_type": "code",
   "execution_count": null,
   "id": "10d3f01d",
   "metadata": {},
   "outputs": [],
   "source": [
    "sternhaufen_name = \"M11\""
   ]
  },
  {
   "cell_type": "code",
   "execution_count": null,
   "id": "5b8b5521",
   "metadata": {},
   "outputs": [],
   "source": [
    "from ipyaladin import __version__, __aladin_lite_version__\n",
    "print(\"version:\", __version__, \"running Aladin Lite:\", __aladin_lite_version__)"
   ]
  },
  {
   "cell_type": "code",
   "execution_count": null,
   "id": "d2d0e79c",
   "metadata": {},
   "outputs": [],
   "source": [
    "aladin = Aladin(target=sternhaufen_name, fov=3.0, survey=\"P/DSS2/color\", height=600)\n",
    "aladin"
   ]
  },
  {
   "cell_type": "code",
   "execution_count": null,
   "id": "1fe084dd",
   "metadata": {},
   "outputs": [],
   "source": [
    "markers = []\n",
    "for i in range(1, 11):\n",
    "    name = f\"M{i}\"\n",
    "    markers.append(\n",
    "        Marker(\n",
    "            position=name,\n",
    "            title=name,\n",
    "            # the title and description can be written as plain text or as html elements\n",
    "            description=(\n",
    "                '<a href=\"https://simbad.cds.unistra.fr/simbad/'\n",
    "                f'sim-basic?Ident={name}&submit=SIMBAD+search\"> '\n",
    "                \"Read more on SIMBAD</a>\"\n",
    "            ),\n",
    "        )\n",
    "    )\n",
    "aladin.add_markers(markers, name=\"M1-M10\", color=\"pink\", shape=\"cross\", source_size=15)\n",
    "aladin.target = \"M1\"\n",
    "aladin.fov = 0.2"
   ]
  },
  {
   "cell_type": "code",
   "execution_count": null,
   "id": "71d23768",
   "metadata": {},
   "outputs": [],
   "source": []
  },
  {
   "cell_type": "code",
   "execution_count": null,
   "id": "8d23aecd",
   "metadata": {},
   "outputs": [],
   "source": [
    "\n",
    "# Die Himmelskoordinaten\n",
    "# Mit Hilfe von astropy können wir diese direkt herausfinden!\n",
    "sternhaufen_position = astropy.coordinates.SkyCoord.from_name(sternhaufen_name)\n",
    "dec_grad = sternhaufen_position.dec.to_value(u.deg)\n",
    "ra_grad = sternhaufen_position.ra.to_value(u.deg)\n",
    "\n",
    "# Der Radius, innerhalb dessens wir den Katalog laden wollen:\n",
    "radius_grad = 0.5 # Dieser Radius ist in Grad angegeben.\n",
    "radius_grad = 0.1 # Dieser Radius ist in Grad angegeben.\n",
    "\n",
    "\n",
    "print(\"Die Koordinaten (in Grad): DEC = \", dec_grad, \", und RA = \", ra_grad)\n",
    "# Du könntest das mit dem vergleichten, was Wikipedia für M4 angibt.\n",
    "\n",
    "# Jetzt geben wir an, woher wir die Daten laden wollen:\n",
    "tap_service = pyvo.dal.TAPService(\"https://gaia.ari.uni-heidelberg.de/tap\")\n",
    "\n",
    "# Und wir beschreiben, in einer speziellen Sprache, welche Daten wir wollen.\n",
    "# In den ersten Zeilen, nach SELECT, geben wir die namen der Spalten an,\n",
    "# die wir brauchen.\n",
    "# Dann folgt die Angabe der Himmelsregion um den Sternhaufen.\n",
    "tap_anfrage = \"\"\"\n",
    "SELECT ra, dec, pmra, pmdec,\n",
    "phot_g_mean_mag, phot_bp_mean_mag, phot_rp_mean_mag, parallax, parallax_error\n",
    "FROM gaiadr2.gaia_source\n",
    "WHERE 1 = CONTAINS(POINT('ICRS', ra, dec),\n",
    "                   CIRCLE('ICRS', {}, {}, {}))\n",
    "AND phot_g_mean_mag < 17.0\n",
    "\"\"\".format(ra_grad, dec_grad, radius_grad)\n",
    "print(\"Die Anfrage an der Server lautet:\")\n",
    "print(tap_anfrage)\n",
    "\n",
    "# Nun stellen wir diese Anfrage, und bekommen (wenn alles klappt) die Daten.\n",
    "print(\"Die Anfrage wird nun gestellt.\")\n",
    "print(\"Es kann einen Moment dauern, bis die Daten angekommen sind.\")\n",
    "with warnings.catch_warnings():\n",
    "    warnings.filterwarnings(\"ignore\", module='astropy.*')\n",
    "    tap_daten = tap_service.run_sync(tap_anfrage)\n",
    "\n",
    "katalog = tap_daten.to_table()\n",
    "\n",
    "print(\"Wir haben den Katalog bekommen. Zusammenfassung:\")\n",
    "print(katalog.info)\n",
    "# Diese Zusammenfassung ist nützlich, daher schreiben wir sie in eine Datei:\n",
    "with open(\"info_katalog.txt\", \"w\") as datei:\n",
    "    datei.write(str(katalog.info))\n",
    "\n",
    "# Jetzt schreiben wir den Katalog in eine einfache Text-Datei,\n",
    "# als eine große Tabelle, im Format \"tab-separated values\", oft tsv genannt.\n",
    "katalog.write(f\"katalog_um_{sternhaufen_name}.tsv\", format=\"ascii.tab\", overwrite=True)\n",
    "print(\"Fertig!\")"
   ]
  },
  {
   "cell_type": "code",
   "execution_count": null,
   "id": "74a5315d",
   "metadata": {},
   "outputs": [],
   "source": [
    "aladin.add_table(\n",
    "    katalog,\n",
    "    shape=\"circle\",\n",
    "    color=\"red\",\n",
    "    ra_field=\"ra\",\n",
    "    dec_field=\"dec\",\n",
    ")"
   ]
  },
  {
   "cell_type": "code",
   "execution_count": null,
   "id": "c1261f87",
   "metadata": {},
   "outputs": [],
   "source": [
    "\n",
    "\n",
    "# Wir laden den Katalog so wie in der Einleitung gezeigt:\n",
    "katalog = np.genfromtxt(f\"katalog_um_{sternhaufen_name}.tsv\", delimiter=\"\\t\", names=True)\n",
    "\n",
    "# Und erstellen ein Diagram mit Matplotlib, folgendes wird gleich besprochen.\n",
    "plt.figure(figsize=(6, 6))\n",
    "plt.plot(katalog[\"pmra\"], katalog[\"pmdec\"],\n",
    "    marker=\".\", markersize=1, linestyle=\"None\")\n",
    "\n",
    "plt.title(f\"Gaia-Eigenbewegungen im Himmelsauschnitt um {sternhaufen_name}\")\n",
    "plt.xlabel(\"Eigenbewegung in RA [welche Einheit?]\")\n",
    "plt.ylabel(\"Eigenbewegung in Dec [welche Einheit?]\")\n",
    "\n",
    "plt.tight_layout()\n",
    "plt.show()"
   ]
  },
  {
   "cell_type": "code",
   "execution_count": null,
   "id": "5de6f172",
   "metadata": {},
   "outputs": [],
   "source": [
    "\n",
    "#katalog = np.genfromtxt(f\"katalog_{sternhaufen_name}.tsv\", delimiter=\"\\t\", names=True)\n",
    "katalog = np.genfromtxt(f\"katalog_um_{sternhaufen_name}.tsv\", delimiter=\"\\t\", names=True)\n",
    "#katalog = np.delete(katalog, 0) # Entfernen der nan-Zeile, die durch die\n",
    "# Striche unter den Spaltennamen ensteht.\n",
    "\n",
    "# Als erstes geben wir mal die Namen der Spalten aus:\n",
    "print(\"Namen der Spalten:\", katalog.dtype.names)\n",
    "print(\"Anzahl der Sterne:\", len(katalog))\n",
    "\n",
    "plt.figure()\n",
    "plt.plot(\n",
    "    katalog[\"phot_bp_mean_mag\"] - katalog[\"phot_rp_mean_mag\"], # Farbe: B - R\n",
    "    katalog[\"phot_rp_mean_mag\"], # Scheinbare Helligkeit: R\n",
    "    label=\"M4\",\n",
    "    marker=\".\", markersize=2, linestyle=\"None\", alpha=0.3, rasterized=True\n",
    "    )\n",
    "\n",
    "# Wie schon im Modul 2 gemacht ändern wir die Richtung der y-Achse:\n",
    "plt.gca().invert_yaxis()\n",
    "\n",
    "# Und Beschriften das Diagram:\n",
    "plt.title(f\"Gaia-FHD von {sternhaufen_name}\")\n",
    "plt.xlabel(\"Farbe B - R [mag]\")\n",
    "plt.ylabel(\"Scheinbare Helligkeit R [mag]\")\n",
    "plt.legend()\n",
    "\n",
    "# Optional: setzte folgende Zeile direkt vor show() oder savefig(),\n",
    "# dann wird der Abstand zwischen Beschrifung und Diagram optimiert:\n",
    "plt.tight_layout()\n",
    "\n",
    "# Und zum Schluss eines von\n",
    "plt.show()\n"
   ]
  },
  {
   "cell_type": "code",
   "execution_count": null,
   "id": "64deee53",
   "metadata": {},
   "outputs": [],
   "source": [
    "# Download the file containing all the isochrones (about 48 MB):\n",
    "\n",
    "local_isochrones_filepath = pathlib.Path(\"MIST_Gaia_isochrones.pickle\")\n",
    "\n",
    "isochrones_url = \"https://uni-bonn.sciebo.de/s/twnf8ZiN66RySCT/download/MIST_Gaia_isochrones.pickle\"\n",
    "if not local_isochrones_filepath.exists():\n",
    "    urllib.request.urlretrieve(isochrones_url, local_isochrones_filepath)\n",
    "\n",
    "# Read this file with the following code (see below for explanations):\n",
    "with open(local_isochrones_filepath, 'rb') as f:\n",
    "    (isochrones, vrots, metallicities, logages) = pickle.load(f)"
   ]
  },
  {
   "cell_type": "code",
   "execution_count": null,
   "id": "bf9a959f",
   "metadata": {},
   "outputs": [],
   "source": [
    "def extinction_law(A_V):\n",
    "    \"\"\"\n",
    "    Returns extinction values for the different Gaia filters, based on some reference total extinction A_V\n",
    "\n",
    "    The particular values we use here are from Wang and Chen (2019) ApJ 877 116:\n",
    "    https://iopscience.iop.org/article/10.3847/1538-4357/ab1c61\n",
    "    \"\"\"\n",
    "    #return {\"g\": ref_ext*3.30, \"r\": ref_ext*2.31, \"i\":ref_ext*1.71 } # Table 2 of Yuan et al. (2013) https://doi.org/10.1093/mnras/stt039\n",
    "    return {\"G\": A_V*0.8, \"RP\": A_V*0.589, \"BP\":A_V*1.002 } # Table 3 of Wang and Chen (2019)\n",
    "\n",
    "\n",
    "\n",
    "def mag_absolute_to_apparent(m, distance, extinction):\n",
    "    \"\"\"\n",
    "    Function that corrects absolute magnitudes by distance modulus and extinction, to get apparent magnitudes\n",
    "    \n",
    "    m: absolute magnitude(s)\n",
    "    distance: in pc\n",
    "    extinction: in mag\n",
    "    \"\"\"\n",
    "    return m + 5.0*np.log10(distance) - 5 + extinction \n",
    "\n",
    "\n",
    "def get_apparent_isochrone(vrot_index, metallicity_index, age_index, distance=10, A_V=0):\n",
    "    \"\"\"\n",
    "    Helper function to get a specific isochrone at a specific distance and total extinction\n",
    "    \"\"\"\n",
    "    \n",
    "    # Computing the extinctions:\n",
    "    extinctions = extinction_law(A_V)\n",
    "    \n",
    "    # Obtaining the corrected magnitudes:\n",
    "    iso_app_g = mag_absolute_to_apparent(isochrones[vrot_index][metallicity_index][age_index][\"G\"], distance, extinctions[\"G\"])\n",
    "    iso_app_r = mag_absolute_to_apparent(isochrones[vrot_index][metallicity_index][age_index][\"BP\"], distance, extinctions[\"BP\"])\n",
    "    iso_app_b = mag_absolute_to_apparent(isochrones[vrot_index][metallicity_index][age_index][\"RP\"], distance, extinctions[\"RP\"])\n",
    "    \n",
    "    # A fancy string describing the isochrone, with some LaTeX formatting:\n",
    "    label_string = f\"Age {(10.0**logages[age_index])/(1e9):.2f} Gyr, \" \\\n",
    "        + f\"[Fe/H] = {metallicities[metallicity_index]:.2f}, \" \\\n",
    "        + r\"$v/v_{\\mathrm{crit}}$ = \" + f\"{vrots[vrot_index]}, \" \\\n",
    "        + f\"$d$ = {distance:.0f} pc, \" \\\n",
    "        + r\"$A_{\\mathrm{V}}$ = \" + f\"{A_V:.2f}\"\n",
    "\n",
    "    return (iso_app_g, iso_app_r, iso_app_b, label_string)\n",
    "\n"
   ]
  },
  {
   "cell_type": "code",
   "execution_count": null,
   "id": "e7f0ceb4",
   "metadata": {},
   "outputs": [],
   "source": [
    "# Initial position of sliders:\n",
    "init_distance = 10.0\n",
    "init_age_index = 50\n",
    "init_metallicity_index = 12\n",
    "init_A_V = 0.0\n",
    "init_vrot_index = 0\n",
    "\n",
    "fig, ax = plt.subplots(figsize=(10, 6))\n",
    "fig.subplots_adjust(left=0.30, bottom=0.1) # making room for the sliders\n",
    "\n",
    "# Plotting the observed data\n",
    "cbar = ax.plot(\n",
    "    katalog[\"phot_bp_mean_mag\"] - katalog[\"phot_rp_mean_mag\"], # Farbe: B - R\n",
    "    katalog[\"phot_rp_mean_mag\"], # Scheinbare Helligkeit: R\n",
    "    marker=\".\", markersize=2, linestyle=\"None\", alpha=0.3, rasterized=True\n",
    ")\n",
    "\n",
    "# Plotting the isochrone\n",
    "(g, bp, rp, label_string) = get_apparent_isochrone(init_vrot_index, init_metallicity_index, init_age_index, init_distance, init_A_V)\n",
    "line, = ax.plot(bp-rp, rp, color=\"red\", linewidth=1.0) \n",
    "text = ax.text(0.5, 0.95, label_string, color=\"red\", horizontalalignment='center', verticalalignment='center', transform=ax.transAxes)\n",
    "\n",
    "# The function to be called anytime a slider or botton is changed\n",
    "def update(val):\n",
    "    vrot_index = vrot_button.index_selected\n",
    "    metallicity_index = metallicity_slider.val\n",
    "    age_index = age_slider.val\n",
    "    distance = dist_slider.val\n",
    "    A_V = ext_slider.val\n",
    "    (g, bp, rp, label_string) = get_apparent_isochrone(vrot_index, metallicity_index, age_index, distance, A_V)\n",
    "    line.set_xdata(bp-rp)\n",
    "    line.set_ydata(rp)\n",
    "    text.set_text(label_string)\n",
    "    fig.canvas.draw_idle()\n",
    "\n",
    "# Slider to control the distance\n",
    "axdist = fig.add_axes([0.05, 0.25, 0.0225, 0.6])\n",
    "dist_slider = matplotlib.widgets.Slider(\n",
    "    ax=axdist,\n",
    "    label=r\"$d$ [pc]\",\n",
    "    valmin=10,\n",
    "    valmax=10000,\n",
    "    valinit=init_distance,\n",
    "    orientation=\"vertical\"\n",
    ")\n",
    "\n",
    "# Slider to control the age\n",
    "axage = fig.add_axes([0.09, 0.25, 0.0225, 0.6])\n",
    "age_slider = matplotlib.widgets.Slider(\n",
    "    ax=axage,\n",
    "    label=r\"$i_{\\mathrm{Age}}$\",\n",
    "    valmin=0,\n",
    "    valmax=len(logages)-1,\n",
    "    valstep=1,\n",
    "    valinit=init_age_index,\n",
    "    orientation=\"vertical\"\n",
    ")\n",
    "\n",
    "# Slider to control the metallicity\n",
    "axmetal = fig.add_axes([0.13, 0.25, 0.0225, 0.6])\n",
    "metallicity_slider = matplotlib.widgets.Slider(\n",
    "    ax=axmetal,\n",
    "    label=r\"$i_{\\mathrm{[Fe/H]}}$\",\n",
    "    valmin=0,\n",
    "    valmax=len(metallicities)-1,\n",
    "    valstep=1,\n",
    "    valinit=init_metallicity_index,\n",
    "    orientation=\"vertical\"\n",
    ")\n",
    "\n",
    "# Slider to control the extinction\n",
    "axext = fig.add_axes([0.17, 0.25, 0.0225, 0.6])\n",
    "ext_slider = matplotlib.widgets.Slider(\n",
    "    ax=axext,\n",
    "    label=r\"$A_{\\mathrm{V}}$\",\n",
    "    valmin=0.0,\n",
    "    valmax=3.0,\n",
    "    valinit=init_A_V,\n",
    "    orientation=\"vertical\"\n",
    ")\n",
    "\n",
    "# Radio buttons to control the rotation\n",
    "axvrot = fig.add_axes([0.05, 0.1, 0.14, 0.08])\n",
    "vrot_button = matplotlib.widgets.RadioButtons(\n",
    "    ax=axvrot, \n",
    "    labels=(\"No rotation\", r\"$v/v_{\\mathrm{crit}} = 0.4$\"),\n",
    "    active=init_vrot_index\n",
    ")\n",
    "\n",
    "# Register the update function with each slider and button:\n",
    "age_slider.on_changed(update)\n",
    "dist_slider.on_changed(update)\n",
    "metallicity_slider.on_changed(update)\n",
    "ext_slider.on_changed(update)\n",
    "vrot_button.on_clicked(update)\n",
    "\n",
    "# Finalize plot\n",
    "ax.invert_yaxis()\n",
    "ax.set_xlabel(\"$B$ - $R$\")\n",
    "ax.set_ylabel(\"$R$\")\n",
    "ax.set_title(f\"Gaia-FHD von {sternhaufen_name}\")\n",
    "plt.show()"
   ]
  },
  {
   "cell_type": "markdown",
   "id": "f7b81256",
   "metadata": {},
   "source": [
    "## Teil 5: Zusammenführen der Ergebnisse!\n",
    "\n",
    "\n",
    "Spalte:\n",
    "Link zu Google doc\n",
    "https://docs.google.com/spreadsheets/d/1W0GKbjyw9aVHF4K5B1VOvJqouxk3H_Mv9EgN-Bxl35Y/\n",
    "\n",
    "\n",
    "\n",
    "- Nummer\n",
    "- Kugelsternahfuen oder offener Haufen (hmm, oder das gar nicht erst erklären)\n",
    "- Name Sternhaufen\n",
    "- Extinction\n",
    "- Galactische breite\n",
    "- Entfernung in kpc durch Parallaxen, wenn möglich?\n",
    "- Entfernung in kpc (von Dir bestimmt)\n",
    "- Alter in Gyr (von Dir bestimmt)\n",
    "\n",
    "\n",
    "Analyse:\n",
    "Kugelsternhaufen vs Sternhaufen (alter! und wie sie aussehen, entfernung)\n"
   ]
  },
  {
   "cell_type": "markdown",
   "id": "3cff0a96",
   "metadata": {},
   "source": [
    "## Notlösungen, falls etwas nicht funktioniert"
   ]
  },
  {
   "cell_type": "markdown",
   "id": "1a23dd5c",
   "metadata": {},
   "source": [
    "sciebo link zu Gaia daten-paket\n",
    "\n",
    "link zu einem read-only google doc"
   ]
  },
  {
   "cell_type": "markdown",
   "id": "60facbb4",
   "metadata": {},
   "source": []
  }
 ],
 "metadata": {
  "kernelspec": {
   "display_name": "gaiafhds25",
   "language": "python",
   "name": "python3"
  },
  "language_info": {
   "codemirror_mode": {
    "name": "ipython",
    "version": 3
   },
   "file_extension": ".py",
   "mimetype": "text/x-python",
   "name": "python",
   "nbconvert_exporter": "python",
   "pygments_lexer": "ipython3",
   "version": "3.13.5"
  }
 },
 "nbformat": 4,
 "nbformat_minor": 5
}
