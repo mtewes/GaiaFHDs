{
 "cells": [
  {
   "cell_type": "markdown",
   "id": "3d575c53",
   "metadata": {},
   "source": [
    "# **GaiaFHDs: Sternhaufen mit Gaia und Python**\n",
    "\n",
    "## Willkommen!\n",
    "\n",
    "In diesem Notebook werden wir Farben-Helligkeits-Diagramme (FHDs) von Sternhaufen erstellen und analysieren, um die Entfernung und das Alter dieser Sternhaufen abzuschätzen. Dafür nutzen wir Daten des Weltraumteleskops Gaia der ESA.\n",
    "\n",
    "Die Nutzung des Notebooks werden wir besprechen. Es ist hier nicht jedes Detail schriftlich beschrieben. Melde Dich einfach, wenn etwas nicht klappt, und natürlich auch wenn du inhaltliche oder technische Fragen hast!"
   ]
  },
  {
   "cell_type": "markdown",
   "id": "cb0d8d4c",
   "metadata": {},
   "source": [
    "## Teil 1: Kleines Python-Tutorial\n",
    "\n",
    "Damit du den Code in den nächsten Teilen besser nachvollziehen kannst, fangen wir mit einer kleinen Einleitung zu Python an."
   ]
  },
  {
   "cell_type": "markdown",
   "id": "11a0577b",
   "metadata": {},
   "source": [
    "\n",
    "Klicke in folgende \"Zelle\", und führe sie mit **control-enter** aus! Du kannst auch **shift-enter** nutzen, dann wird gleich die nächste Zelle ausgewählt."
   ]
  },
  {
   "cell_type": "code",
   "execution_count": null,
   "id": "9c043aba",
   "metadata": {},
   "outputs": [],
   "source": [
    "print(\"Hallo Welt!\")"
   ]
  },
  {
   "cell_type": "code",
   "execution_count": null,
   "id": "8460607f",
   "metadata": {},
   "outputs": [],
   "source": [
    "# Alles hinter einem # ist ein Kommentar, der von Python ignoriert wird.\n",
    "\n",
    "# Das hier ist ein \"String\", also eine Zeichenkette, die von Python als Text interpretiert wird:\n",
    "t = \"Hallo Welt!\"\n",
    "\n",
    "# In einem Notebook kannst du das print() oft weglassen.\n",
    "# Eine Darstellung des letzten \"Ausdrucks\" einer Zelle wird automatisch ausgegeben, so wie hier:\n",
    "t"
   ]
  },
  {
   "cell_type": "code",
   "execution_count": null,
   "id": "3e8c2b38",
   "metadata": {},
   "outputs": [],
   "source": [
    "a = 6\n",
    "b = 3\n",
    "print(\"Kleine Rechnung:\", (a + b - 2.2) / 2 )\n",
    "\n",
    "# Wenn gewünscht kann man genau bestimmen, wie Zahlen formatiert werden sollen.\n",
    "# Die modernste und eleganteste Lösung dafür in Python ist der sogenannte f-String:\n",
    "print(f\"Noch ne Rechnung: { a+b :.5f}\") # Das .5f bedeutet, dass die Zahl mit 3 Nachkommastellen ausgegeben werden soll."
   ]
  },
  {
   "cell_type": "code",
   "execution_count": null,
   "id": "4565b160",
   "metadata": {},
   "outputs": [],
   "source": [
    "# Variablen bleiben nach der Ausführung von Zellen erhalten!\n",
    "# a und b \"gibt\" es also weiterhin:\n",
    "\n",
    "a / b"
   ]
  },
  {
   "cell_type": "markdown",
   "id": "6d9de40f",
   "metadata": {},
   "source": [
    "Für praktisch all Aufgaben gibt es in Python \"Module\", das sind Programmierbibliotheken. Um sie zu nutzen, muss man sie vorher einmal *importieren*.\n",
    "\n",
    "Erstes Beispiel: für numerische Rechnungen nutzt man **numpy**, und importiert es als np (... ist kürzer zu schreiben), so: "
   ]
  },
  {
   "cell_type": "code",
   "execution_count": null,
   "id": "78b2f5f3",
   "metadata": {},
   "outputs": [],
   "source": [
    "import numpy as np\n",
    "\n",
    "# Alles, was zu numpy gehört, fängt nun mit \"np.\" an:\n",
    "x = 2.0\n",
    "y = np.sqrt(x) # sqrt steht für \"square root\"\n",
    "\n",
    "print(\"Die Quadratwurzel von\", x, \"ist ungefähr\", y)\n",
    "\n",
    "print(\"Pi ist ungefähr\", np.pi)\n"
   ]
  },
  {
   "cell_type": "markdown",
   "id": "7c0ee784",
   "metadata": {},
   "source": [
    "Die wichtigste Eigenschaft von numpy ist das rechnen mit sogenannten \"Arrays\". Ein Array ist eine Art Liste (oder Tabelle) von Zahlen.\n",
    "\n",
    "So können wir ein Array selber bauen:"
   ]
  },
  {
   "cell_type": "code",
   "execution_count": null,
   "id": "1c9929bc",
   "metadata": {},
   "outputs": [],
   "source": [
    "a = np.array([1.5, 4.2, 2.0, 1.0])\n",
    "\n",
    "# Und so kommen wir an einzelne Elemente des Arrays ran:\n",
    "print(\"Das erste Element von a ist\", a[0])\n",
    "print(\"Das zweite Element von a ist\", a[1])\n",
    "print(\"Das letzte Element von a ist\", a[-1])"
   ]
  },
  {
   "cell_type": "markdown",
   "id": "54d4fc73",
   "metadata": {},
   "source": [
    "Und jetzt kommt der Clou: wenn man mit einem Array rechnet, werden viele Operationen automatisch auf *alle* Zahlen dieses Arrays angewandt. Das Ergebnis so einer Rechnung ist oft selber ein Array. Probiere folgende Beispiele aus:"
   ]
  },
  {
   "cell_type": "code",
   "execution_count": null,
   "id": "983b78c0",
   "metadata": {},
   "outputs": [],
   "source": [
    "b = a + 2.0  # b ist nun auch ein Array mit 4 Zahlen...\n",
    "print(b)\n",
    "\n",
    "b = np.sqrt(a)  # ... und hier ist b die Quadratwurzel von a\n",
    "print(b)"
   ]
  },
  {
   "cell_type": "markdown",
   "id": "35888078",
   "metadata": {},
   "source": [
    "Andere Funktionen von numpy können ein Array \"zusammenfassen\", und nur eine Zahl ausgeben. Zum Beispiel:"
   ]
  },
  {
   "cell_type": "code",
   "execution_count": null,
   "id": "e29815ba",
   "metadata": {},
   "outputs": [],
   "source": [
    "print(np.mean(a)) # Mittelwert von a\n",
    "\n",
    "c = np.max(b) # Maximalwert von b\n",
    "print(c)"
   ]
  },
  {
   "cell_type": "markdown",
   "id": "5af90e54",
   "metadata": {},
   "source": [
    "Als nächstes Beispiel schauen wir uns kurz das Modul **matplotlib** an, mit dem man Diagramme erstellen kann. Mit dieser Bibliothek können alle Aspekte eines Diagramms bis ins letzte Detail kontrolliert werden, und trotzdem bleibt das erstellen von einfachen Diagrammen so unkompliziert wie möglich.\n",
    "\n"
   ]
  },
  {
   "cell_type": "code",
   "execution_count": null,
   "id": "c9db9c3e",
   "metadata": {},
   "outputs": [],
   "source": [
    "%matplotlib widget\n",
    "import matplotlib.pyplot as plt # Wir werden matplotlib immer so importieren\n",
    "\n",
    "# Matplotlib funktioniert mit numpy Arrays, wir bauen uns also ein Beispiel:\n",
    "x = np.linspace(0, 5, 50) # so bekommt man ein Array mit 50 regelmässig verteilte Zahlen zwischen 0 und 5\n",
    "y = np.sqrt(x) # Das Array y enthält also die Quadratwurzeln der Werte von x\n",
    "\n",
    "# Und jetzt matplotlib:\n",
    "plt.figure() # Lege eine neues Diagramm an\n",
    "plt.plot(x, y, \"b.\") # Zeichne (x, y) als blaue Punkte ein (\"b.\" steht für \"blue dot\")\n",
    "plt.show() # Zeige das Diagramm an"
   ]
  },
  {
   "cell_type": "markdown",
   "id": "96c36d72",
   "metadata": {},
   "source": [
    "Matplotlib-Diagramme sind interaktiv. Bewege die Maus über das Diagramm, und Klicke auf das Kreuz-Symbol oben links. Jetzt kannst du mit der linken Maustaste die Achsen verschieben, und mit der rechten Maustaste die Skala der Achsen ändern.\n",
    "\n",
    "Spiele ein wenig damit herum:\n",
    "\n",
    " - Ersetze mal `sqrt` durch `sin`.\n",
    " - Ersetzte `\"b.\"` durch `\"r-\"`, oder lasse das ganz weg.\n",
    " - Du kannst die Funktion `plt.plot` auch mehrmals aufrufen (natürlich am besten mit unterschiedlichem Inhalt).\n",
    " - Füge die Zeile `plt.xlabel(\"Das ist die x-Achse\")` ein, vor dem `plt.show()`."
   ]
  },
  {
   "cell_type": "markdown",
   "id": "f2744ddc",
   "metadata": {},
   "source": [
    "## Teil 2: Laden der Daten\n",
    "\n",
    "In diesem Teil laden wir die Gaia-Daten eines Sternhaufens aus einer Datenbank. "
   ]
  },
  {
   "cell_type": "markdown",
   "id": "265dae8a",
   "metadata": {},
   "source": [
    "Als erstes importieren wir jetzt alle Module, die wir heute benötigen werden. Führe die folgende Zelle einfach einmal aus."
   ]
  },
  {
   "cell_type": "code",
   "execution_count": null,
   "id": "1272327d",
   "metadata": {},
   "outputs": [],
   "source": [
    "import warnings\n",
    "\n",
    "import urllib.request\n",
    "import pathlib\n",
    "import pickle\n",
    "\n",
    "import numpy as np\n",
    "%matplotlib widget\n",
    "import matplotlib\n",
    "import matplotlib.pyplot as plt\n",
    "\n",
    "import pyvo\n",
    "\n",
    "import astropy\n",
    "import astropy.table\n",
    "from astropy import units as u\n",
    "\n",
    "from ipyaladin import Aladin, Marker"
   ]
  },
  {
   "cell_type": "markdown",
   "id": "1c7141f0",
   "metadata": {},
   "source": [
    "Jetzt wählen wir einen Sternhaufen aus, hier sind einige Vorschläge.\n",
    "\n",
    "- Kugelsternhaufen: M2, M3, M4, M5, M10, M12, M13, M15, M22, M28, M53, M92, NGC104, NGC5139\n",
    "- Offene Sternhaufen: M37, M38, M46, M67, NGC3293, NGC3532, NGC3766 \n"
   ]
  },
  {
   "cell_type": "code",
   "execution_count": null,
   "id": "10d3f01d",
   "metadata": {},
   "outputs": [],
   "source": [
    "sternhaufen_name = \"NGC3766\"\n",
    "gaia_radius_grad = 0.5 # Radius in Grad, in dem wir den Katalog laden werden. Lass den Wert zunächst unverändert."
   ]
  },
  {
   "cell_type": "markdown",
   "id": "94473b6d",
   "metadata": {},
   "source": [
    "Spezialisierte Astronomie-Module liefern uns Himmelskoordinaten:"
   ]
  },
  {
   "cell_type": "code",
   "execution_count": null,
   "id": "5882d7fa",
   "metadata": {},
   "outputs": [],
   "source": [
    "sternhaufen_position = astropy.coordinates.SkyCoord.from_name(sternhaufen_name)\n",
    "dec_grad = sternhaufen_position.dec.to_value(u.deg)\n",
    "ra_grad = sternhaufen_position.ra.to_value(u.deg)\n",
    "\n",
    "galaktische_breite = sternhaufen_position.galactic.b.to_value(u.deg)\n",
    "\n",
    "print(f\"Koordinaten (in Grad) von {sternhaufen_name}: DEC = {dec_grad:.4f}, RA = {ra_grad:.4f}\")\n",
    "print(f\"Und seine galaktische Breite (in Grad): {galaktische_breite:.2f}\")"
   ]
  },
  {
   "cell_type": "markdown",
   "id": "5a8acd42",
   "metadata": {},
   "source": [
    "Zunächst laden wir ein Bild des sternhaufens, aus einer Durchmusterung. Wir nutzen dazu eine Werkzeug namens \"Aladin\", aus einem Python-Modul das wir bereits importiert haben.\n",
    "Das Angezeigte Bild ist interaktiv, du kannst z.B. raus- und rein-zoomen!"
   ]
  },
  {
   "cell_type": "code",
   "execution_count": null,
   "id": "d2d0e79c",
   "metadata": {},
   "outputs": [],
   "source": [
    "aladin = Aladin(target=sternhaufen_name, fov=3.0, survey=\"P/DSS2/color\", height=600)\n",
    "aladin"
   ]
  },
  {
   "cell_type": "code",
   "execution_count": null,
   "id": "879199cd",
   "metadata": {},
   "outputs": [],
   "source": [
    "# Wir können auch den Radius darstellen, in dem wir den Katalog laden wollen:\n",
    "aladin.add_graphic_overlay_from_stcs(f\"Circle ICRS {ra_grad} {dec_grad} {gaia_radius_grad}\", color=\"yellow\")\n",
    "\n",
    "# Nachdem du diese Zelle ausgeführt hast, bewege die Maus nochmal über das Aladin-Fenster (direkt hier drüber).\n",
    "# Der Radius sollte dann erscheinen."
   ]
  },
  {
   "cell_type": "markdown",
   "id": "71d23768",
   "metadata": {},
   "source": [
    "In der folgenden Zelle werden wir nun einen Katalog der Sterne um die Position des Sternhaufens laden, aus einer Gaia-Datenbank. Wir brauchen hier nur Sterne bis zur 17. Magnitude.\n",
    "\n",
    "Diesen Katalog schreiben wir in eine Text-Datei, um alles so einfach und flexibel wie möglich zu halten."
   ]
  },
  {
   "cell_type": "code",
   "execution_count": null,
   "id": "8d23aecd",
   "metadata": {},
   "outputs": [],
   "source": [
    "# Dateinamen, unter dem wir den Katalog speichern wollen:\n",
    "dateiname_katalog = f\"katalog_um_{sternhaufen_name}.tsv\"\n",
    "\n",
    "# Wir wollen den Katalog nur laden, wenn das bisher noch nicht gemacht wurde.\n",
    "# Daher prüfen wir zuerst, ob die Datei schon existiert.\n",
    "if pathlib.Path(dateiname_katalog).exists():\n",
    "    raise FileExistsError(\n",
    "        f\"Den Katalog {dateiname_katalog} gibt es schon, bitte lösche ihn wenn du ihn wirklich neu laden willst.\"\n",
    "    )\n",
    "\n",
    "# Woher wir die Daten laden wollen:\n",
    "tap_service = pyvo.dal.TAPService(\"https://gaia.ari.uni-heidelberg.de/tap\")\n",
    "\n",
    "# Und wir beschreiben, in einer speziellen Sprache, welche Daten wir wollen.\n",
    "# In den ersten Zeilen, nach SELECT, geben wir die namen der gewünschten \"Spalten\" (also Messungen) an.\n",
    "# Dann folgt die Angabe der Himmelsregion um den Sternhaufen.\n",
    "tap_anfrage = f\"\"\"SELECT ra, dec, pmra, pmdec,\n",
    "phot_g_mean_mag, phot_bp_mean_mag, phot_rp_mean_mag, parallax, parallax_error\n",
    "FROM gaiadr3.gaia_source\n",
    "WHERE 1 = CONTAINS(POINT('ICRS', ra, dec),\n",
    "                   CIRCLE('ICRS', {ra_grad}, {dec_grad}, {gaia_radius_grad}))\n",
    "AND phot_g_mean_mag < 19.0\n",
    "\"\"\"\n",
    "print(\"Die Anfrage an der Server lautet:\")\n",
    "print(tap_anfrage)\n",
    "\n",
    "# Nun stellen wir diese Anfrage, und bekommen (wenn alles klappt) die Daten.\n",
    "print(\"Die Anfrage wird nun gestellt.\")\n",
    "print(\"Es kann einen Moment dauern, bis die Daten angekommen sind.\")\n",
    "with warnings.catch_warnings():\n",
    "    warnings.filterwarnings(\"ignore\", module='astropy.*')\n",
    "    tap_daten = tap_service.run_sync(tap_anfrage)\n",
    "\n",
    "gaia_daten_tabelle = tap_daten.to_table()\n",
    "\n",
    "print(\"Wir haben den Katalog bekommen. Übersicht der Spalten:\")\n",
    "print(gaia_daten_tabelle.info)\n",
    "# Diese Übersicht ist nützlich, daher schreiben wir sie in eine Datei:\n",
    "with open(f\"info_katalog_um_{sternhaufen_name}.txt\", \"w\") as datei:\n",
    "    datei.write(str(gaia_daten_tabelle.info))\n",
    "\n",
    "# Jetzt schreiben wir den Katalog in eine einfache Text-Datei,\n",
    "# als eine große Tabelle, im Format \"tab-separated values\", oft tsv genannt.\n",
    "gaia_daten_tabelle.write(dateiname_katalog, format=\"ascii.tab\", overwrite=True)\n",
    "print(\"Fertig!\")"
   ]
  },
  {
   "cell_type": "code",
   "execution_count": null,
   "id": "7b987585",
   "metadata": {},
   "outputs": [],
   "source": [
    "# Nur zur Info, so könntest du die soeben geschriebenen Dateien aus Python heraus löschen:\n",
    "#pathlib.Path.unlink(f\"katalog_um_{sternhaufen_name}.tsv\")\n",
    "#pathlib.Path.unlink(f\"info_katalog_um_{sternhaufen_name}.txt\")"
   ]
  },
  {
   "cell_type": "markdown",
   "id": "c737c899",
   "metadata": {},
   "source": [
    "Jetzt lesen wir diesen Katalog aus der Datei ein (wie du siehst geht das z.B. mit einer Funktion von Numpy):"
   ]
  },
  {
   "cell_type": "code",
   "execution_count": null,
   "id": "fbd2e810",
   "metadata": {},
   "outputs": [],
   "source": [
    "katalog = np.genfromtxt(f\"katalog_um_{sternhaufen_name}.tsv\", delimiter=\"\\t\", names=True)"
   ]
  },
  {
   "cell_type": "markdown",
   "id": "81734a8f",
   "metadata": {},
   "source": [
    "Und visualisieren ihn in Aladin! Führe die folgende Zelle aus, und sieh dir das Ergebnis in dem Aladin-Fenster weiter oben an!"
   ]
  },
  {
   "cell_type": "code",
   "execution_count": null,
   "id": "74a5315d",
   "metadata": {},
   "outputs": [],
   "source": [
    "aladin.add_table( # Wir fügen eine Darstellung des Katalogs in Aladin hinzu.\n",
    "    astropy.table.Table(katalog),\n",
    "    shape=\"circle\", color=\"red\", ra_field=\"ra\", dec_field=\"dec\"\n",
    ")"
   ]
  },
  {
   "cell_type": "markdown",
   "id": "594be2a9",
   "metadata": {},
   "source": [
    "Übrigens ist `katalog` ein numpy Array, in diesem Fall mit 2 Dimensionen: jede \"Zeile\" steht für einen Stern, jede \"Spalte\" für einen gemessenen Parameter. Du kannst dir dieses Array natürlich hier im Notebook anzeigen lassen, und auch damit rechnen. Mithilfe der Spalten-Namen kommst du leicht an den Inhalt einzelner Spalten, wie in folgendem Beispiel."
   ]
  },
  {
   "cell_type": "code",
   "execution_count": null,
   "id": "2c11628e",
   "metadata": {},
   "outputs": [],
   "source": [
    "print(\"Namen der Spalten: \", katalog.dtype.names)  # Spaltennamen des Katalogs\n",
    "\n",
    "print(\"Mittelwert der Werte der Spalte 'ra': \", np.mean(katalog['ra']) )"
   ]
  },
  {
   "cell_type": "markdown",
   "id": "9b23f34a",
   "metadata": {},
   "source": [
    "## Teil 3: Auswahl der Sterne des Sternhaufens\n",
    "\n",
    "Anhand der von Gaia gemessenen Eigenbewegungen können wir die Sterne identifizieren, die *tatsächlich* zu dem Haufen gehören."
   ]
  },
  {
   "cell_type": "markdown",
   "id": "45509e7b",
   "metadata": {},
   "source": [
    "Dazu erstellen wir ein Diagramm der von Gaia gemessenen Eigenbewegungen (Englisch: \"proper motion\", abgekürzt \"pm\") der Sterne, mit Matplotlib.\n",
    "Dafür verwenden wir die Spalten `pmra` und `pmdec` als x- und y-Achse, die die Eigenbewegungen der Sterne entlang der Himmelskoordinaten enthalten."
   ]
  },
  {
   "cell_type": "code",
   "execution_count": null,
   "id": "711a674f",
   "metadata": {},
   "outputs": [],
   "source": [
    "plt.figure()\n",
    "plt.plot(katalog[\"pmra\"], katalog[\"pmdec\"],\n",
    "    marker=\".\", markersize=1, linestyle=\"None\")\n",
    "plt.axis(\"equal\")  # Damit die Achsen gleich skaliert werden\n",
    "\n",
    "plt.title(f\"Gaia-Eigenbewegungen im Himmelsauschnitt um {sternhaufen_name}\")\n",
    "plt.xlabel(\"Eigenbewegung entlang RA [mas/yr]\")  # mas/yr = Milliarcsekunden pro Jahr\n",
    "plt.ylabel(\"Eigenbewegung entlang Dec [mas/yr]\")\n",
    "\n",
    "plt.tight_layout()\n",
    "plt.show()"
   ]
  },
  {
   "cell_type": "markdown",
   "id": "c22b84ed",
   "metadata": {},
   "source": [
    "Kannst du in dem Diagramm einen \"Haufen\" finden? Wenn ja, was könnte das sein?\n",
    "Wenn nicht sind in deinem Katalog vielleicht einfach zu wenige Feldsterne, das ist aber auch kein Problem.\n",
    "\n",
    "Anhand ihrer Eigenbewegung wollen wir nun aus dem Katalog die Sterne auswählen, die tatsächlich zu dem Sternhaufen gehören.\n",
    "Das können wir mit folgender Zelle machen, **in der du die Werte `pmra_min`, `pmra_max`, `pmdec_min`, `pmdec_max` anpassen musst!**"
   ]
  },
  {
   "cell_type": "code",
   "execution_count": null,
   "id": "c1261f87",
   "metadata": {},
   "outputs": [],
   "source": [
    "# Grenze einen Bereich der Eigenbewegungen ein (in mas/yr), der dem Sternhaufen entsprechen könnte.\n",
    "# Ersetze dafür die np.inf durch Werte, die du im obigen Diagramm abliest.\n",
    "(pmra_min, pmra_max) = (-np.inf, np.inf)\n",
    "(pmdec_min, pmdec_max) = (-np.inf, np.inf)\n",
    "\n",
    "# Wir machen einen neuen Katalog, der nur die Sterne enthält, die in dem eingegrenzten Bereich\n",
    "# der Eigenbewegungen liegen.\n",
    "katalog_auswahl = np.extract((katalog[\"pmra\"] >= pmra_min) & (katalog[\"pmra\"] <= pmra_max) &\n",
    "                     (katalog[\"pmdec\"] >= pmdec_min) & (katalog[\"pmdec\"] <= pmdec_max), katalog)\n",
    "\n",
    "print(f\"katalog_auswahl enthält {len(katalog_auswahl)} von {len(katalog)} Sternen.\")"
   ]
  },
  {
   "cell_type": "markdown",
   "id": "ff53c748",
   "metadata": {},
   "source": [
    "Wir können die Auswahl überprüfen, indem wir uns die Verteilung der ausgewählten Sterne am Himmel ansehen.\n",
    "Führe dazu folgende Zelle aus, und scrolle dann wieder hoch zum Aladin-Fenster. Die ausgewählten Sterne sind dort nun in *grün* markiert.\n",
    "Hat die Auswahl geklappt?"
   ]
  },
  {
   "cell_type": "code",
   "execution_count": null,
   "id": "c370ad6d",
   "metadata": {},
   "outputs": [],
   "source": [
    "aladin.add_table( # Wir fügen eine Darstellung des Katalogs in Aladin hinzu.\n",
    "    astropy.table.Table(katalog_auswahl),\n",
    "    shape=\"circle\", color=\"green\", ra_field=\"ra\", dec_field=\"dec\"\n",
    ")"
   ]
  },
  {
   "cell_type": "markdown",
   "id": "0d1e5f16",
   "metadata": {},
   "source": [
    "## Teil 4: Das Farben-Helligkeits-Diagramm (FHD)\n",
    "\n",
    "Wir erstellen das FHD des Sternhaufens, und vergleichen es mit simulierten Sternen, um Entfernung und Alter des Sternhaufens abschätzen zu können."
   ]
  },
  {
   "cell_type": "markdown",
   "id": "da961d56",
   "metadata": {},
   "source": [
    "Alles, was wir für das FHD benötigen, befindet sich in `katalog_auswahl`. Folgende Spalten werden wir nun nutzen:\n",
    "\n",
    "- \"phot_bp_mean_mag\": entspricht der scheinbaren Magnitude in einem **blauen** Filter\n",
    "- \"phot_rp_mean_mag\": entspricht der scheinbaren Magnitude in einem **roten** Filter\n",
    "\n",
    "Die *Farbe* können wir berechen, indem wir die Differenz zwischen diesen Spalten bilden.\n",
    "Wir rufen also `plt.plot()` auf, und geben als erstes die Farbe (x-Achse), und dann die scheinbare Helligkeit im roten Filter (y-Achse) an:"
   ]
  },
  {
   "cell_type": "code",
   "execution_count": null,
   "id": "5de6f172",
   "metadata": {},
   "outputs": [],
   "source": [
    "plt.figure()\n",
    "plt.plot(\n",
    "    katalog_auswahl[\"phot_bp_mean_mag\"] - katalog_auswahl[\"phot_rp_mean_mag\"], # Farbe: B - R\n",
    "    katalog_auswahl[\"phot_rp_mean_mag\"], # Scheinbare Helligkeit: R\n",
    "    marker=\".\", markersize=2, linestyle=\"None\", alpha=0.3, rasterized=True\n",
    "    )\n",
    "\n",
    "# Wir ändern wir die Richtung der y-Achse, damit helle Sterne (also kleine Magnituden) oben sind.\n",
    "plt.gca().invert_yaxis()\n",
    "\n",
    "# Und Beschriften das Diagram:\n",
    "plt.title(f\"Gaia-FHD von {sternhaufen_name}\")\n",
    "plt.xlabel(\"Farbe B - R [mag]\")\n",
    "plt.ylabel(\"Scheinbare Helligkeit R [mag]\")\n",
    "\n",
    "plt.tight_layout()\n",
    "plt.show()"
   ]
  },
  {
   "cell_type": "markdown",
   "id": "2789755a",
   "metadata": {},
   "source": [
    "Dieses Diagramm wollen wir nun mit \"simulierten\" Sternen vergleichen.\n",
    "Führe dazu die folgenden 3 Zellen einfach aus. Den Code musst du zunächst nicht lesen, du kannst später darauf zurück kommen. "
   ]
  },
  {
   "cell_type": "code",
   "execution_count": null,
   "id": "64deee53",
   "metadata": {},
   "outputs": [],
   "source": [
    "# Wir laden eine Datei mit Ergenissen der Simulationen (sogenannte Isochronen).\n",
    "\n",
    "local_isochrones_filepath = pathlib.Path(\"MIST_Gaia_isochrones.pickle\")\n",
    "\n",
    "isochrones_url = \"https://uni-bonn.sciebo.de/s/twnf8ZiN66RySCT/download/MIST_Gaia_isochrones.pickle\"\n",
    "if not local_isochrones_filepath.exists():\n",
    "    urllib.request.urlretrieve(isochrones_url, local_isochrones_filepath)\n",
    "\n",
    "with open(local_isochrones_filepath, 'rb') as f:\n",
    "    (isochrones, vrots, metallicities, logages) = pickle.load(f)"
   ]
  },
  {
   "cell_type": "code",
   "execution_count": null,
   "id": "bf9a959f",
   "metadata": {},
   "outputs": [],
   "source": [
    "# Wir definieren Funktionen die uns ermöglichen, die \"simulierten Sterne\" mit den echten Beobachtungen zu vergleichen.\n",
    "\n",
    "def extinction_law(A_V):\n",
    "    \"\"\"\n",
    "    Returns extinction values for the different Gaia filters, based on some reference total extinction A_V\n",
    "\n",
    "    The particular values we use here are from Wang and Chen (2019) ApJ 877 116:\n",
    "    https://iopscience.iop.org/article/10.3847/1538-4357/ab1c61\n",
    "    \"\"\"\n",
    "    return {\"G\": A_V*0.8, \"RP\": A_V*0.589, \"BP\":A_V*1.002 } # Table 3 of Wang and Chen (2019)\n",
    "\n",
    "\n",
    "\n",
    "def mag_absolute_to_apparent(m, distance, extinction):\n",
    "    \"\"\"\n",
    "    Function that corrects absolute magnitudes by distance modulus and extinction, to get apparent magnitudes\n",
    "    \n",
    "    m: absolute magnitude(s)\n",
    "    distance: in pc\n",
    "    extinction: in mag\n",
    "    \"\"\"\n",
    "    return m + 5.0*np.log10(distance) - 5 + extinction \n",
    "\n",
    "\n",
    "def get_apparent_isochrone(vrot_index, metallicity_index, age_index, distance=10, A_V=0):\n",
    "    \"\"\"\n",
    "    Helper function to get a specific isochrone at a specific distance and total extinction\n",
    "    \"\"\"\n",
    "    \n",
    "    # Computing the extinctions:\n",
    "    extinctions = extinction_law(A_V)\n",
    "    \n",
    "    # Obtaining the corrected magnitudes:\n",
    "    iso_app_g = mag_absolute_to_apparent(isochrones[vrot_index][metallicity_index][age_index][\"G\"], distance, extinctions[\"G\"])\n",
    "    iso_app_r = mag_absolute_to_apparent(isochrones[vrot_index][metallicity_index][age_index][\"BP\"], distance, extinctions[\"BP\"])\n",
    "    iso_app_b = mag_absolute_to_apparent(isochrones[vrot_index][metallicity_index][age_index][\"RP\"], distance, extinctions[\"RP\"])\n",
    "    \n",
    "    # A fancy string describing the isochrone, with some LaTeX formatting:\n",
    "    label_string = f\"Alter {(10.0**logages[age_index])/(1e9):.2f} Gyr, \" \\\n",
    "        + f\"[Fe/H] = {metallicities[metallicity_index]:.2f}, \" \\\n",
    "        + r\"$v/v_{\\mathrm{crit}}$ = \" + f\"{vrots[vrot_index]}, \" \\\n",
    "        + f\"$d$ = {distance:.0f} pc, \" \\\n",
    "        + r\"$A_{\\mathrm{V}}$ = \" + f\"{A_V:.2f}\"\n",
    "\n",
    "    return (iso_app_g, iso_app_r, iso_app_b, label_string)\n"
   ]
  },
  {
   "cell_type": "code",
   "execution_count": null,
   "id": "e7f0ceb4",
   "metadata": {},
   "outputs": [],
   "source": [
    "# Diese Zelle baut eine interaktive Matplotlib-Figur. Führe sie einfach aus.\n",
    "\n",
    "# Initial position of sliders:\n",
    "init_distance = 10.0\n",
    "init_age_index = 50\n",
    "init_metallicity_index = 12\n",
    "init_A_V = 0.0\n",
    "init_vrot_index = 0\n",
    "\n",
    "fig, ax = plt.subplots(figsize=(10, 6))\n",
    "fig.subplots_adjust(left=0.30, bottom=0.1) # making room for the sliders\n",
    "\n",
    "# Plotting the observed data\n",
    "cbar = ax.plot(\n",
    "    katalog_auswahl[\"phot_bp_mean_mag\"] - katalog_auswahl[\"phot_rp_mean_mag\"], # Farbe: B - R\n",
    "    katalog_auswahl[\"phot_rp_mean_mag\"], # Scheinbare Helligkeit: R\n",
    "    marker=\".\", markersize=2, linestyle=\"None\", alpha=0.3, rasterized=True\n",
    ")\n",
    "\n",
    "# Plotting the isochrone\n",
    "(g, bp, rp, label_string) = get_apparent_isochrone(init_vrot_index, init_metallicity_index, init_age_index, init_distance, init_A_V)\n",
    "line, = ax.plot(bp-rp, rp, color=\"red\", linewidth=1.0) \n",
    "text = ax.text(0.5, 0.95, label_string, color=\"red\", horizontalalignment='center', verticalalignment='center', transform=ax.transAxes)\n",
    "\n",
    "# The function to be called anytime a slider or button is changed\n",
    "def update(val):\n",
    "    vrot_index = vrot_button.index_selected\n",
    "    metallicity_index = metallicity_slider.val\n",
    "    age_index = age_slider.val\n",
    "    distance = dist_slider.val\n",
    "    A_V = ext_slider.val\n",
    "    (g, bp, rp, label_string) = get_apparent_isochrone(vrot_index, metallicity_index, age_index, distance, A_V)\n",
    "    line.set_xdata(bp-rp)\n",
    "    line.set_ydata(rp)\n",
    "    text.set_text(label_string)\n",
    "    fig.canvas.draw_idle()\n",
    "\n",
    "# Slider to control the distance\n",
    "axdist = fig.add_axes([0.05, 0.25, 0.0225, 0.6])\n",
    "dist_slider = matplotlib.widgets.Slider(\n",
    "    ax=axdist,\n",
    "    label=r\"$d$ [pc]\",\n",
    "    valmin=10,\n",
    "    valmax=12000,\n",
    "    valinit=init_distance,\n",
    "    orientation=\"vertical\"\n",
    ")\n",
    "\n",
    "# Slider to control the age\n",
    "axage = fig.add_axes([0.09, 0.25, 0.0225, 0.6])\n",
    "age_slider = matplotlib.widgets.Slider(\n",
    "    ax=axage,\n",
    "    label=r\"$i_{\\mathrm{Alter}}$\",\n",
    "    valmin=0,\n",
    "    valmax=len(logages)-1,\n",
    "    valstep=1,\n",
    "    valinit=init_age_index,\n",
    "    orientation=\"vertical\"\n",
    ")\n",
    "\n",
    "# Slider to control the metallicity\n",
    "axmetal = fig.add_axes([0.13, 0.25, 0.0225, 0.6])\n",
    "metallicity_slider = matplotlib.widgets.Slider(\n",
    "    ax=axmetal,\n",
    "    label=r\"$i_{\\mathrm{[Fe/H]}}$\",\n",
    "    valmin=0,\n",
    "    valmax=len(metallicities)-1,\n",
    "    valstep=1,\n",
    "    valinit=init_metallicity_index,\n",
    "    orientation=\"vertical\"\n",
    ")\n",
    "\n",
    "# Slider to control the extinction\n",
    "axext = fig.add_axes([0.17, 0.25, 0.0225, 0.6])\n",
    "ext_slider = matplotlib.widgets.Slider(\n",
    "    ax=axext,\n",
    "    label=r\"$A_{\\mathrm{V}}$\",\n",
    "    valmin=0.0,\n",
    "    valmax=3.0,\n",
    "    valinit=init_A_V,\n",
    "    orientation=\"vertical\"\n",
    ")\n",
    "\n",
    "# Radio buttons to control the rotation\n",
    "axvrot = fig.add_axes([0.05, 0.1, 0.14, 0.08])\n",
    "vrot_button = matplotlib.widgets.RadioButtons(\n",
    "    ax=axvrot, \n",
    "    labels=(\"No rotation\", r\"$v/v_{\\mathrm{crit}} = 0.4$\"),\n",
    "    active=init_vrot_index\n",
    ")\n",
    "\n",
    "# Register the update function with each slider and button:\n",
    "age_slider.on_changed(update)\n",
    "dist_slider.on_changed(update)\n",
    "metallicity_slider.on_changed(update)\n",
    "ext_slider.on_changed(update)\n",
    "vrot_button.on_clicked(update)\n",
    "\n",
    "# Finalize plot\n",
    "ax.invert_yaxis()\n",
    "ax.set_xlabel(\"Farbe B - R [mag]\")\n",
    "ax.set_ylabel(\"Scheinbare Helligkeit R [mag]\")\n",
    "ax.set_title(f\"Gaia-FHD von {sternhaufen_name}\")\n",
    "plt.show()"
   ]
  },
  {
   "cell_type": "markdown",
   "id": "e02eec94",
   "metadata": {},
   "source": [
    "Anhand der 4 \"Schieberegler\" kannst du nun die simulierten Sterne (dargestellt durch die rote linie) beeinflussen, um sie mit den Beobachtungen vergleichen zu können. Die Schieberegler haben folgende Bedeutung:\n",
    "\n",
    "- Der erste parameter *d* ist die **Entfernung** der simulierten Sterne, in parsec (abgekürzt pc). Erhöhe mal die Entfernung! Wie du siehst, macht das die Sterne dunkler, ohne ihre Farbe zu verändern.\n",
    "- Der zweite Regler beeinflusst das **Alter** der simulierten Sterne. Dieses wird dir in der roten Zeile angezeigt, in Milliarden Jahren (Gigayear, abgekürzt Gyr).\n",
    "- Der dritte Regler beeinflusst die **Metallizität** der simulierten Sterne, also welchen Anteil die schwerere Elemente (alles außer Wasserstoff und Helium) an ihrer Masse haben. Für einen offenen Sternhaufen fangt am besten mit der Standart-Stellung an, das entspricht der Metallizität der Sonne. Für einen Kugelsternhaufen stellt ihn am Anfang auf [Fe/H] = -2.0, das entspricht einem Hunderstel der Metallizität der Sonne.\n",
    "- Der vierte Regler beeinflusst die sogenannte **Extinktion**, das heisst wie viel Staub zwischen uns und den Sternen liegt. Der Wert wird durch den Parameter *A_V* (in der roten Zeile) angegeben, in Magnituden. Staub verdunkelt die Sterne, und verändert auch ihre Farbe: sie werden röter. \n",
    "\n",
    "Kannst du insbesondere die Entfernung, das Alter, und eventuell auch Staub und Metallizität so einstellen, dass die simulierten Sterne über den Beobachtungen liegen?"
   ]
  },
  {
   "cell_type": "markdown",
   "id": "f7b81256",
   "metadata": {},
   "source": [
    "## Teil 5: Zusammenführen der Ergebnisse\n",
    "\n",
    "Wir sammeln die Ergebnisse verschiedener Sternhaufen in einer Tabelle, um daraus z.B. etwas über unsere Milchstraße zu lernen."
   ]
  },
  {
   "cell_type": "markdown",
   "id": "a2c5fb53",
   "metadata": {},
   "source": [
    "\n",
    "Wenn du auf folgenden Link klickst, öffnet er sich in einem neuen Tab des Browsers.\n",
    "\n",
    "**Du kannst dann die Tastenkombi control-tab nutzen, um zwischen den zwei Tabs des Browsers hin und her zu wechseln.**\n",
    "\n",
    "https://docs.google.com/spreadsheets/d/1W0GKbjyw9aVHF4K5B1VOvJqouxk3H_Mv9EgN-Bxl35Y/\n",
    "\n",
    "Tragt eure Werte für Alter, Entfernung, Metallizität und Extinktion in die Tabelle ein, und auch die galaktische Breite (wurde in der dritten Zelle von Teil 2 ausgegeben)."
   ]
  },
  {
   "cell_type": "markdown",
   "id": "f7f343e9",
   "metadata": {},
   "source": [
    "## Weiteres\n"
   ]
  },
  {
   "cell_type": "markdown",
   "id": "5e3fa548",
   "metadata": {},
   "source": [
    "\n",
    "Eine etwas systematischere Einleitung zu Gaia, FHDs, Sternentwicklung, und auch zu Python findest du im \"Project Andromeda\": https://astro.uni-bonn.de/andromeda/ "
   ]
  },
  {
   "cell_type": "markdown",
   "id": "3cff0a96",
   "metadata": {},
   "source": [
    "## Notlösungen, falls etwas nicht funktioniert"
   ]
  },
  {
   "cell_type": "code",
   "execution_count": null,
   "id": "9b6dd941",
   "metadata": {},
   "outputs": [],
   "source": [
    "# Falls die Gaia-Datenbank nicht erreichbar ist, kannst du mit dieser Zelle die Daten\n",
    "# für einige Sternhaufen aus einer anderen Quelle laden.\n",
    "# Entferne dafür die Kommentarzeichen (#) vor den Zeilen.\n",
    "\n",
    "\n",
    "#local_archive_path = pathlib.Path(\"GaiaFHDs_backup_Kataloge.tgz\")\n",
    "\n",
    "#archive_url = \"https://uni-bonn.sciebo.de/s/mD6NKwcHbKEdBsE/download/GaiaFHDs_backup_Kataloge.tgz\"\n",
    "#if not local_archive_path.exists():\n",
    "#    urllib.request.urlretrieve(archive_url, local_archive_path)\n",
    "\n",
    "#import os\n",
    "#os.system(f\"tar xvf {local_archive_path}\")"
   ]
  },
  {
   "cell_type": "code",
   "execution_count": null,
   "id": "c97b8cbb",
   "metadata": {},
   "outputs": [],
   "source": [
    "# Tests\n",
    "\n",
    "from ipyaladin import __version__, __aladin_lite_version__\n",
    "print(\"version:\", __version__, \"running Aladin Lite:\", __aladin_lite_version__)"
   ]
  }
 ],
 "metadata": {
  "kernelspec": {
   "display_name": "gaiafhds25",
   "language": "python",
   "name": "python3"
  },
  "language_info": {
   "codemirror_mode": {
    "name": "ipython",
    "version": 3
   },
   "file_extension": ".py",
   "mimetype": "text/x-python",
   "name": "python",
   "nbconvert_exporter": "python",
   "pygments_lexer": "ipython3",
   "version": "3.13.5"
  }
 },
 "nbformat": 4,
 "nbformat_minor": 5
}
